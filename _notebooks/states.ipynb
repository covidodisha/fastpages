{
 "cells": [
  {
   "cell_type": "markdown",
   "metadata": {},
   "source": [
    "# States\n",
    "> Rt for states of India.\n",
    "\n",
    "- toc: true \n",
    "- badges: true\n",
    "- comments: true\n",
    "- categories: [jupyter]\n",
    "- image: images/chart-preview.png"
   ]
  },
